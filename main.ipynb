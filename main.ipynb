{
 "cells": [
  {
   "cell_type": "code",
   "execution_count": null,
   "id": "baf13e94",
   "metadata": {},
   "outputs": [],
   "source": [
    "\n",
    "from classes.event_graph import EventGraph\n",
    "from classes.event_node import EventNode\n",
    "from data.event_types import event_types\n",
    "\n",
    "n0 = EventNode(event_types[0]) \n",
    "n1 = EventNode(event_types[1]) \n",
    "n2 = EventNode(event_types[2])\n",
    "\n",
    "print(\"----------------------------\")\n",
    "\n",
    "eg = EventGraph()\n",
    "eg.add_node(n0)\n",
    "eg.add_node(n1)\n",
    "eg.add_node(n2)\n",
    "eg.add_edge(n0, n1)\n",
    "eg.add_edge(n1, n2)\n",
    "eg.visualize()"
   ]
  },
  {
   "cell_type": "code",
   "execution_count": null,
   "id": "643cb5d6",
   "metadata": {},
   "outputs": [],
   "source": [
    "import hashlib\n",
    "\n",
    "def stable_hash(label: str):\n",
    "    return hashlib.blake2b(label.encode(\"utf-8\"), digest_size=16).hexdigest()\n",
    "\n",
    "def WL_neighborhood_labels(graph: EventGraph, iterations: int, inspect: bool = False):\n",
    "    labels = {node: graph.nodes[node].event_type for node in graph.nodes}\n",
    "    \n",
    "    for _ in range(iterations):\n",
    "        new_labels = {}\n",
    "        for node in graph.nodes:\n",
    "            nbrs = graph.adj_list.get(node, [])  # safe default\n",
    "            neighbor_labels = [labels[nbr] for nbr in nbrs if nbr in labels]\n",
    "            \n",
    "            # deterministic sort even if labels later become non-strings\n",
    "            neighbor_labels.sort(key=repr)\n",
    "\n",
    "            signature = (labels[node], tuple(neighbor_labels))\n",
    "\n",
    "            if inspect:\n",
    "                # keep inspection output readable and still a string so next iter is safe\n",
    "                new_label = signature\n",
    "            else:\n",
    "                new_label = stable_hash(repr(signature))\n",
    "            \n",
    "            new_labels[node] = new_label\n",
    "            \n",
    "        labels = new_labels\n",
    "        \n",
    "    return labels"
   ]
  },
  {
   "cell_type": "code",
   "execution_count": null,
   "id": "15375212",
   "metadata": {},
   "outputs": [
    {
     "name": "stdout",
     "output_type": "stream",
     "text": [
      "{'6fd6806e29df41b381c4199080337494': ((('started_school', ('finished_school',)), (('finished_school', ('started_work',)),)), ((('finished_school', ('started_work',)), (('started_work', ()),)),)), '8c5ecb92f3ba4b7d9e5717157ae1d52b': ((('finished_school', ('started_work',)), (('started_work', ()),)), ((('started_work', ()), ()),)), '7a17f597ef1c4ff1a96dde2c8307b5a2': ((('started_work', ()), ()), ())}\n"
     ]
    }
   ],
   "source": [
    "labels = WL_neighborhood_labels(eg, 3)\n",
    "print(labels)"
   ]
  }
 ],
 "metadata": {
  "kernelspec": {
   "display_name": "venv (3.10.12)",
   "language": "python",
   "name": "python3"
  },
  "language_info": {
   "codemirror_mode": {
    "name": "ipython",
    "version": 3
   },
   "file_extension": ".py",
   "mimetype": "text/x-python",
   "name": "python",
   "nbconvert_exporter": "python",
   "pygments_lexer": "ipython3",
   "version": "3.10.12"
  }
 },
 "nbformat": 4,
 "nbformat_minor": 5
}
