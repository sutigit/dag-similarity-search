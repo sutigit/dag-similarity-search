{
 "cells": [
  {
   "cell_type": "code",
   "execution_count": null,
   "id": "609ca598",
   "metadata": {},
   "outputs": [],
   "source": [
    "from dag_class import DAG\n",
    "from node_class import Node\n",
    "import json\n",
    "\n",
    "# Load DAG from JSON file\n",
    "def load_dag_from_json(json_path):\n",
    "    with open(json_path, 'r') as f:\n",
    "        data = json.load(f)\n",
    "    dag = DAG()\n",
    "    for node_info in data['nodes']:\n",
    "        node = Node(node_info['id'], node_info.get('label'))\n",
    "        dag.add_node(node)\n",
    "    for edge in data['edges']:\n",
    "        dag.add_edge(edge[0], edge[1])\n",
    "    return dag"
   ]
  },
  {
   "cell_type": "code",
   "execution_count": null,
   "id": "5cd56441",
   "metadata": {},
   "outputs": [],
   "source": [
    "# Visualize DAG from JSON\n",
    "json_path = 'graphs/dag_1.json'\n",
    "dag = load_dag_from_json(json_path)\n",
    "dag.print_nodes()"
   ]
  },
  {
   "cell_type": "code",
   "execution_count": null,
   "id": "75cf478a",
   "metadata": {},
   "outputs": [],
   "source": [
    "# Visualize DAG from JSON\n",
    "json_path = 'graphs/dag_1.json'\n",
    "dag = load_dag_from_json(json_path)\n",
    "dag.visualize()"
   ]
  },
  {
   "cell_type": "code",
   "execution_count": null,
   "id": "9fa0bc52",
   "metadata": {},
   "outputs": [],
   "source": [
    "# Traverse through the DAG \n"
   ]
  }
 ],
 "metadata": {
  "kernelspec": {
   "display_name": "venv (3.10.12)",
   "language": "python",
   "name": "python3"
  },
  "language_info": {
   "codemirror_mode": {
    "name": "ipython",
    "version": 3
   },
   "file_extension": ".py",
   "mimetype": "text/x-python",
   "name": "python",
   "nbconvert_exporter": "python",
   "pygments_lexer": "ipython3",
   "version": "3.10.12"
  }
 },
 "nbformat": 4,
 "nbformat_minor": 5
}
