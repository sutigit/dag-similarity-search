{
 "cells": [
  {
   "cell_type": "code",
   "execution_count": null,
   "id": "baf13e94",
   "metadata": {},
   "outputs": [
    {
     "name": "stdout",
     "output_type": "stream",
     "text": [
      "id: 0, event_type: started_school\n",
      "id: 1, event_type: finished_school\n",
      "id: 2, event_type: started_work\n",
      "id: 3, event_type: new_family_member\n",
      "id: 4, event_type: bought_a_house\n",
      "id: 5, event_type: got_married\n",
      "------------------\n",
      "id: 4, event_type: bought_a_house\n"
     ]
    }
   ],
   "source": [
    "from classes.event_nodes import EventNodes\n",
    "\n",
    "etn = EventNodes()\n"
   ]
  }
 ],
 "metadata": {
  "kernelspec": {
   "display_name": "venv (3.10.12)",
   "language": "python",
   "name": "python3"
  },
  "language_info": {
   "codemirror_mode": {
    "name": "ipython",
    "version": 3
   },
   "file_extension": ".py",
   "mimetype": "text/x-python",
   "name": "python",
   "nbconvert_exporter": "python",
   "pygments_lexer": "ipython3",
   "version": "3.10.12"
  }
 },
 "nbformat": 4,
 "nbformat_minor": 5
}
