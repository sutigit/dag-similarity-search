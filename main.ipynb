{
 "cells": [
  {
   "cell_type": "code",
   "execution_count": null,
   "id": "baf13e94",
   "metadata": {},
   "outputs": [],
   "source": [
    "\n",
    "from classes.event_graph import EventGraph\n",
    "from classes.event_node import EventNode\n",
    "from data.event_types import event_types\n",
    "\n",
    "n0 = EventNode(event_types[0]) \n",
    "n1 = EventNode(event_types[1]) \n",
    "n2 = EventNode(event_types[2])\n",
    "\n",
    "print(\"----------------------------\")\n",
    "\n",
    "eg = EventGraph()\n",
    "eg.add_node(n0)\n",
    "eg.add_node(n1)\n",
    "eg.add_node(n2)\n",
    "eg.add_edge(n0, n1)\n",
    "eg.add_edge(n1, n2)\n",
    "eg.visualize()"
   ]
  },
  {
   "cell_type": "code",
   "execution_count": 125,
   "id": "643cb5d6",
   "metadata": {},
   "outputs": [],
   "source": [
    "import hashlib\n",
    "\n",
    "def stable_hash(label: str):\n",
    "    h = hashlib.blake2b(label.encode(\"utf-8\"), digest_size=16).digest()\n",
    "    return int.from_bytes(h, \"little\")\n",
    "\n",
    "def WL_neighborhood_labels(graph: EventGraph, iterations: int = 3, inspect: bool = False):\n",
    "    labels = {node: stable_hash(graph.nodes[node].event_type) for node in graph.nodes}\n",
    "    history = [labels.copy()]\n",
    "    \n",
    "    for _ in range(iterations):\n",
    "        new_labels = {}\n",
    "        for node in graph.nodes:\n",
    "            nbrs = graph.adj_list.get(node, [])  # safe default\n",
    "            neighbor_labels = [labels[nbr] for nbr in nbrs if nbr in labels]\n",
    "            \n",
    "            # deterministic sort even if labels later become non-strings\n",
    "            neighbor_labels.sort(key=repr)\n",
    "\n",
    "            signature = (labels[node], tuple(neighbor_labels))\n",
    "\n",
    "            if inspect:\n",
    "                # keep inspection output readable and still a string so next iter is safe\n",
    "                new_label = signature\n",
    "            else:\n",
    "                new_label = stable_hash(repr(signature))\n",
    "            \n",
    "            new_labels[node] = new_label\n",
    "            \n",
    "        labels = new_labels\n",
    "        history.append(labels.copy())\n",
    "        \n",
    "    return history  # list of dicts for it=0..h"
   ]
  },
  {
   "cell_type": "code",
   "execution_count": 126,
   "id": "15375212",
   "metadata": {},
   "outputs": [
    {
     "name": "stdout",
     "output_type": "stream",
     "text": [
      "[{'eeb9c9258857432b8e5499d367674b53': 93433054168679946075865275642629393240, '550c64a6e0b44acc9929d2ca49fc777e': 65701059784870561186292905343980779203, 'b47371f81e4b4e26a70b09a562a221eb': 158219164025945609616885530571600077192}, {'eeb9c9258857432b8e5499d367674b53': 210689940475976901938048864362768591456, '550c64a6e0b44acc9929d2ca49fc777e': 195050179273803116973085247012978721960, 'b47371f81e4b4e26a70b09a562a221eb': 156948249707131972314697569980015481027}, {'eeb9c9258857432b8e5499d367674b53': 216991367043714769640016947020418008246, '550c64a6e0b44acc9929d2ca49fc777e': 200870902363397443375183181182280170270, 'b47371f81e4b4e26a70b09a562a221eb': 29641278237178254485597453965643685284}, {'eeb9c9258857432b8e5499d367674b53': 252166089463993543676619844122931078035, '550c64a6e0b44acc9929d2ca49fc777e': 105063728035190742098303524639375851287, 'b47371f81e4b4e26a70b09a562a221eb': 320455612623921187340720680842695643592}]\n"
     ]
    }
   ],
   "source": [
    "labels = WL_neighborhood_labels(eg)\n",
    "print(labels)"
   ]
  },
  {
   "cell_type": "code",
   "execution_count": null,
   "id": "825301be",
   "metadata": {},
   "outputs": [],
   "source": [
    "def graph_to_fingerprint(graph, D=1024):\n",
    "    all_labels = WL_neighborhood_labels(graph)\n",
    "    fingerprint = [0] * D\n",
    "    for labels in all_labels:          # use 0..h\n",
    "        for feat in labels.values():\n",
    "            idx = feat % D\n",
    "            fingerprint[idx] = 1       # or +=1 for counts\n",
    "    return fingerprint"
   ]
  },
  {
   "cell_type": "code",
   "execution_count": 143,
   "id": "a4d156bf",
   "metadata": {},
   "outputs": [
    {
     "name": "stdout",
     "output_type": "stream",
     "text": [
      "856\n",
      "707\n",
      "392\n",
      "608\n",
      "168\n",
      "195\n",
      "182\n",
      "798\n",
      "420\n",
      "915\n",
      "791\n",
      "456\n",
      "[0, 0, 0, 0, 0, 0, 0, 0, 0, 0, 0, 0, 0, 0, 0, 0, 0, 0, 0, 0, 0, 0, 0, 0, 0, 0, 0, 0, 0, 0, 0, 0, 0, 0, 0, 0, 0, 0, 0, 0, 0, 0, 0, 0, 0, 0, 0, 0, 0, 0, 0, 0, 0, 0, 0, 0, 0, 0, 0, 0, 0, 0, 0, 0, 0, 0, 0, 0, 0, 0, 0, 0, 0, 0, 0, 0, 0, 0, 0, 0, 0, 0, 0, 0, 0, 0, 0, 0, 0, 0, 0, 0, 0, 0, 0, 0, 0, 0, 0, 0, 0, 0, 0, 0, 0, 0, 0, 0, 0, 0, 0, 0, 0, 0, 0, 0, 0, 0, 0, 0, 0, 0, 0, 0, 0, 0, 0, 0, 0, 0, 0, 0, 0, 0, 0, 0, 0, 0, 0, 0, 0, 0, 0, 0, 0, 0, 0, 0, 0, 0, 0, 0, 0, 0, 0, 0, 0, 0, 0, 0, 0, 0, 0, 0, 0, 0, 0, 0, 1, 0, 0, 0, 0, 0, 0, 0, 0, 0, 0, 0, 0, 0, 1, 0, 0, 0, 0, 0, 0, 0, 0, 0, 0, 0, 0, 1, 0, 0, 0, 0, 0, 0, 0, 0, 0, 0, 0, 0, 0, 0, 0, 0, 0, 0, 0, 0, 0, 0, 0, 0, 0, 0, 0, 0, 0, 0, 0, 0, 0, 0, 0, 0, 0, 0, 0, 0, 0, 0, 0, 0, 0, 0, 0, 0, 0, 0, 0, 0, 0, 0, 0, 0, 0, 0, 0, 0, 0, 0, 0, 0, 0, 0, 0, 0, 0, 0, 0, 0, 0, 0, 0, 0, 0, 0, 0, 0, 0, 0, 0, 0, 0, 0, 0, 0, 0, 0, 0, 0, 0, 0, 0, 0, 0, 0, 0, 0, 0, 0, 0, 0, 0, 0, 0, 0, 0, 0, 0, 0, 0, 0, 0, 0, 0, 0, 0, 0, 0, 0, 0, 0, 0, 0, 0, 0, 0, 0, 0, 0, 0, 0, 0, 0, 0, 0, 0, 0, 0, 0, 0, 0, 0, 0, 0, 0, 0, 0, 0, 0, 0, 0, 0, 0, 0, 0, 0, 0, 0, 0, 0, 0, 0, 0, 0, 0, 0, 0, 0, 0, 0, 0, 0, 0, 0, 0, 0, 0, 0, 0, 0, 0, 0, 0, 0, 0, 0, 0, 0, 0, 0, 0, 0, 0, 1, 0, 0, 0, 0, 0, 0, 0, 0, 0, 0, 0, 0, 0, 0, 0, 0, 0, 0, 0, 0, 0, 0, 0, 0, 0, 0, 0, 1, 0, 0, 0, 0, 0, 0, 0, 0, 0, 0, 0, 0, 0, 0, 0, 0, 0, 0, 0, 0, 0, 0, 0, 0, 0, 0, 0, 0, 0, 0, 0, 0, 0, 0, 0, 1, 0, 0, 0, 0, 0, 0, 0, 0, 0, 0, 0, 0, 0, 0, 0, 0, 0, 0, 0, 0, 0, 0, 0, 0, 0, 0, 0, 0, 0, 0, 0, 0, 0, 0, 0, 0, 0, 0, 0, 0, 0, 0, 0, 0, 0, 0, 0, 0, 0, 0, 0, 0, 0, 0, 0, 0, 0, 0, 0, 0, 0, 0, 0, 0, 0, 0, 0, 0, 0, 0, 0, 0, 0, 0, 0, 0, 0, 0, 0, 0, 0, 0, 0, 0, 0, 0, 0, 0, 0, 0, 0, 0, 0, 0, 0, 0, 0, 0, 0, 0, 0, 0, 0, 0, 0, 0, 0, 0, 0, 0, 0, 0, 0, 0, 0, 0, 0, 0, 0, 0, 0, 0, 0, 0, 0, 0, 0, 0, 0, 0, 0, 0, 0, 0, 0, 0, 0, 0, 0, 0, 0, 0, 0, 0, 0, 0, 0, 0, 0, 0, 0, 1, 0, 0, 0, 0, 0, 0, 0, 0, 0, 0, 0, 0, 0, 0, 0, 0, 0, 0, 0, 0, 0, 0, 0, 0, 0, 0, 0, 0, 0, 0, 0, 0, 0, 0, 0, 0, 0, 0, 0, 0, 0, 0, 0, 0, 0, 0, 0, 0, 0, 0, 0, 0, 0, 0, 0, 0, 0, 0, 0, 0, 0, 0, 0, 0, 0, 0, 0, 0, 0, 0, 0, 0, 0, 0, 0, 0, 0, 0, 0, 0, 0, 0, 0, 0, 0, 0, 0, 0, 0, 0, 0, 0, 0, 0, 0, 0, 0, 0, 1, 0, 0, 0, 0, 0, 0, 0, 0, 0, 0, 0, 0, 0, 0, 0, 0, 0, 0, 0, 0, 0, 0, 0, 0, 0, 0, 0, 0, 0, 0, 0, 0, 0, 0, 0, 0, 0, 0, 0, 0, 0, 0, 0, 0, 0, 0, 0, 0, 0, 0, 0, 0, 0, 0, 0, 0, 0, 0, 0, 0, 0, 0, 0, 0, 0, 0, 0, 0, 0, 0, 0, 0, 0, 0, 0, 0, 0, 0, 0, 0, 0, 0, 0, 1, 0, 0, 0, 0, 0, 0, 1, 0, 0, 0, 0, 0, 0, 0, 0, 0, 0, 0, 0, 0, 0, 0, 0, 0, 0, 0, 0, 0, 0, 0, 0, 0, 0, 0, 0, 0, 0, 0, 0, 0, 0, 0, 0, 0, 0, 0, 0, 0, 0, 0, 0, 0, 0, 0, 0, 0, 0, 0, 0, 0, 0, 0, 0, 0, 1, 0, 0, 0, 0, 0, 0, 0, 0, 0, 0, 0, 0, 0, 0, 0, 0, 0, 0, 0, 0, 0, 0, 0, 0, 0, 0, 0, 0, 0, 0, 0, 0, 0, 0, 0, 0, 0, 0, 0, 0, 0, 0, 0, 0, 0, 0, 0, 0, 0, 0, 0, 0, 0, 0, 0, 0, 0, 0, 1, 0, 0, 0, 0, 0, 0, 0, 0, 0, 0, 0, 0, 0, 0, 0, 0, 0, 0, 0, 0, 0, 0, 0, 0, 0, 0, 0, 0, 0, 0, 0, 0, 0, 0, 0, 0, 0, 0, 0, 0, 0, 0, 0, 0, 0, 0, 0, 0, 0, 0, 0, 0, 0, 0, 0, 0, 0, 0, 0, 0, 0, 0, 0, 0, 0, 0, 0, 0, 0, 0, 0, 0, 0, 0, 0, 0, 0, 0, 0, 0, 0, 0, 0, 0, 0, 0, 0, 0, 0, 0, 0, 0, 0, 0, 0, 0, 0, 0, 0, 0, 0, 0, 0, 0, 0, 0, 0, 0]\n"
     ]
    }
   ],
   "source": [
    "fingerprint = graph_to_fingerprint(eg)\n",
    "print(fingerprint)"
   ]
  },
  {
   "cell_type": "code",
   "execution_count": null,
   "id": "972b583f",
   "metadata": {},
   "outputs": [],
   "source": []
  }
 ],
 "metadata": {
  "kernelspec": {
   "display_name": "venv (3.10.12)",
   "language": "python",
   "name": "python3"
  },
  "language_info": {
   "codemirror_mode": {
    "name": "ipython",
    "version": 3
   },
   "file_extension": ".py",
   "mimetype": "text/x-python",
   "name": "python",
   "nbconvert_exporter": "python",
   "pygments_lexer": "ipython3",
   "version": "3.10.12"
  }
 },
 "nbformat": 4,
 "nbformat_minor": 5
}
