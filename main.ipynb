{
 "cells": [
  {
   "cell_type": "code",
   "execution_count": 1,
   "id": "baf13e94",
   "metadata": {},
   "outputs": [],
   "source": [
    "from pathlib import Path\n",
    "from lib.noise_sampler import generate_graphs\n",
    "\n",
    "RULES_PATH = Path(\"lib/sampling_rules.json\")\n",
    "noise_graphs = generate_graphs(n=200, max_events=24, rules_json_path=RULES_PATH, seed=42)"
   ]
  },
  {
   "cell_type": "code",
   "execution_count": 2,
   "id": "5c059b11",
   "metadata": {},
   "outputs": [],
   "source": [
    "from lib.target_sampler import generate_target_graphs\n",
    "\n",
    "target_graphs = generate_target_graphs()"
   ]
  },
  {
   "cell_type": "code",
   "execution_count": 3,
   "id": "a4d156bf",
   "metadata": {},
   "outputs": [],
   "source": [
    "from lib.WL2vec import graph_to_fingerprint\n",
    "\n",
    "noise_fingerprints = {str(i): graph_to_fingerprint(g) for i, g in enumerate(noise_graphs)}\n",
    "target_fingerprints = {str(len(noise_graphs)+i): graph_to_fingerprint(g) for i, g in enumerate(target_graphs)}"
   ]
  },
  {
   "cell_type": "code",
   "execution_count": null,
   "id": "fcea0dc9",
   "metadata": {},
   "outputs": [],
   "source": [
    "from lib.pinecone import upsert\n",
    "\n",
    "upsert(fingerprints=noise_fingerprints)\n",
    "upsert(fingerprints=target_fingerprints, metadata={ 'target': 'yes' })"
   ]
  },
  {
   "cell_type": "code",
   "execution_count": null,
   "id": "972b583f",
   "metadata": {},
   "outputs": [],
   "source": [
    "\n",
    "from lib.pinecone import query\n",
    "\n",
    "target_base_graph = \"200\"\n",
    "results = query(target_fingerprints[target_base_graph], 10)\n",
    "\n",
    "matches = results.matches\n"
   ]
  },
  {
   "cell_type": "code",
   "execution_count": null,
   "id": "58dad534",
   "metadata": {},
   "outputs": [],
   "source": [
    "all_graphs = noise_graphs + target_graphs\n",
    "\n",
    "for match in results.matches:\n",
    "    print(match.id)\n",
    "    print(\"-----------\")\n",
    "    all_graphs[int(match.id)].visualize()"
   ]
  }
 ],
 "metadata": {
  "kernelspec": {
   "display_name": "venv (3.10.12)",
   "language": "python",
   "name": "python3"
  },
  "language_info": {
   "codemirror_mode": {
    "name": "ipython",
    "version": 3
   },
   "file_extension": ".py",
   "mimetype": "text/x-python",
   "name": "python",
   "nbconvert_exporter": "python",
   "pygments_lexer": "ipython3",
   "version": "3.10.12"
  }
 },
 "nbformat": 4,
 "nbformat_minor": 5
}
