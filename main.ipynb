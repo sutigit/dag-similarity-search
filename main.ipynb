{
 "cells": [
  {
   "cell_type": "code",
   "execution_count": null,
   "id": "baf13e94",
   "metadata": {},
   "outputs": [],
   "source": [
    "\n",
    "from classes.event_graph import EventGraph\n",
    "from classes.event_node import EventNode\n",
    "from data.event_types import event_types\n",
    "\n",
    "n0 = EventNode(event_types[0]) \n",
    "n1 = EventNode(event_types[1]) \n",
    "n2 = EventNode(event_types[2])\n",
    "\n",
    "print(\"----------------------------\")\n",
    "\n",
    "eg = EventGraph()\n",
    "eg.add_node(n0)\n",
    "eg.add_node(n1)\n",
    "eg.add_node(n2)\n",
    "eg.add_edge(n0, n1)\n",
    "eg.add_edge(n1, n2)\n",
    "eg.visualize()"
   ]
  },
  {
   "cell_type": "code",
   "execution_count": null,
   "id": "643cb5d6",
   "metadata": {},
   "outputs": [],
   "source": [
    "import hashlib\n",
    "\n",
    "def stable_hash(label: str):\n",
    "    h = hashlib.blake2b(label.encode(\"utf-8\"), digest_size=16).digest()\n",
    "    return int.from_bytes(h, \"little\")\n",
    "\n",
    "def WL_neighborhood_labels(graph: EventGraph, iterations: int = 3, inspect: bool = False):\n",
    "    labels = {node: stable_hash(graph.nodes[node].event_type) for node in graph.nodes}\n",
    "    history = [labels.copy()]\n",
    "    \n",
    "    for _ in range(iterations):\n",
    "        new_labels = {}\n",
    "        for node in graph.nodes:\n",
    "            nbrs = graph.adj_list.get(node, [])  # safe default\n",
    "            neighbor_labels = [labels[nbr] for nbr in nbrs if nbr in labels]\n",
    "            \n",
    "            # deterministic sort even if labels later become non-strings\n",
    "            neighbor_labels.sort(key=repr)\n",
    "\n",
    "            signature = (labels[node], tuple(neighbor_labels))\n",
    "\n",
    "            if inspect:\n",
    "                # keep inspection output readable and still a string so next iter is safe\n",
    "                new_label = signature\n",
    "            else:\n",
    "                new_label = stable_hash(repr(signature))\n",
    "            \n",
    "            new_labels[node] = new_label\n",
    "            \n",
    "        labels = new_labels\n",
    "        history.append(labels.copy())\n",
    "        \n",
    "    return history  # list of dicts for it=0..h"
   ]
  },
  {
   "cell_type": "code",
   "execution_count": null,
   "id": "15375212",
   "metadata": {},
   "outputs": [],
   "source": [
    "labels = WL_neighborhood_labels(eg)\n",
    "print(labels)"
   ]
  },
  {
   "cell_type": "code",
   "execution_count": null,
   "id": "825301be",
   "metadata": {},
   "outputs": [],
   "source": [
    "def graph_to_fingerprint(graph, D=1024):\n",
    "    all_labels = WL_neighborhood_labels(graph)\n",
    "    fingerprint = [0.0] * D\n",
    "    for labels in all_labels:          # use 0..h\n",
    "        for feat in labels.values():\n",
    "            idx = feat % D\n",
    "            fingerprint[idx] = 1.0       # or +=1 for counts\n",
    "    return fingerprint"
   ]
  },
  {
   "cell_type": "code",
   "execution_count": null,
   "id": "a4d156bf",
   "metadata": {},
   "outputs": [],
   "source": [
    "fingerprint = graph_to_fingerprint(eg)"
   ]
  },
  {
   "cell_type": "code",
   "execution_count": null,
   "id": "972b583f",
   "metadata": {},
   "outputs": [],
   "source": [
    "from lib.pinecone import vdb\n",
    "\n",
    "print(fingerprint)\n",
    "\n",
    "vdb.upsert(\n",
    "  vectors=[\n",
    "    {\n",
    "      \"id\": \"A\", \n",
    "      \"values\": fingerprint,\n",
    "      \"metadata\": { 'country': 'finland '}\n",
    "    },\n",
    "    {\n",
    "      \"id\": \"B\", \n",
    "      \"values\": fingerprint,\n",
    "      \"metadata\": { 'country': 'finland '}\n",
    "    }\n",
    "  ],\n",
    "  namespace=\"wwmp\"\n",
    ")\n",
    "\n"
   ]
  }
 ],
 "metadata": {
  "kernelspec": {
   "display_name": "venv (3.10.12)",
   "language": "python",
   "name": "python3"
  },
  "language_info": {
   "codemirror_mode": {
    "name": "ipython",
    "version": 3
   },
   "file_extension": ".py",
   "mimetype": "text/x-python",
   "name": "python",
   "nbconvert_exporter": "python",
   "pygments_lexer": "ipython3",
   "version": "3.10.12"
  }
 },
 "nbformat": 4,
 "nbformat_minor": 5
}
